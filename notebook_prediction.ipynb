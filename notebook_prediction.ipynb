{
 "cells": [
  {
   "cell_type": "markdown",
   "metadata": {},
   "source": [
    "### Prediction of Customer Churn\n",
    "\n",
    "In the previous notebook, we have defined the problem of customer churn and discussed why it is important for telecom companies to predict and alleviate it.\n",
    "\n",
    "### Why Customer Churn Prediction Is Important\n",
    "\n",
    "Customer churn prediction allows organizations to proactively approach at-risk clients and try to repair the relationship before the customer leaves. In effect it is a pre-warning that lets you act. It is generally accepted that retaining a customer costs a lot less than acquiring a new one. So being able to predict a customer is going to churn and preventing it, is better than losing them and finding another to replace them.\n",
    "\n",
    "### Aim\n",
    "\n",
    "To predict customers who are likely to churn.\n",
    "\n",
    "### Objectives\n",
    "\n",
    "We will approach this as a binary classification problem and the objectives are to -\n",
    "\n",
    "1. Find the best binary classification model\n",
    "2. Find out the most important features"
   ]
  },
  {
   "cell_type": "code",
   "execution_count": 197,
   "metadata": {},
   "outputs": [],
   "source": [
    "# Import basic data processing libraries\n",
    "\n",
    "import numpy as np\n",
    "import pandas as pd\n",
    "from pandas_profiling import ProfileReport\n",
    "import matplotlib.pyplot as plt\n",
    "%matplotlib inline\n",
    "import warnings\n",
    "warnings.filterwarnings('ignore')"
   ]
  },
  {
   "cell_type": "code",
   "execution_count": 198,
   "metadata": {},
   "outputs": [],
   "source": [
    "# Import models and related libraries\n",
    "from sklearn.preprocessing import LabelEncoder\n",
    "from sklearn.preprocessing import StandardScaler\n",
    "\n",
    "from sklearn.neighbors import KNeighborsClassifier\n",
    "from sklearn.tree import DecisionTreeClassifier\n",
    "from sklearn.ensemble import RandomForestClassifier\n",
    "from sklearn.naive_bayes import GaussianNB\n",
    "from sklearn.neighbors import KNeighborsClassifier\n",
    "from sklearn.svm import SVC\n",
    "from sklearn import svm\n",
    "from sklearn.linear_model import LogisticRegression\n",
    "\n",
    "from sklearn.metrics import confusion_matrix, classification_report, plot_roc_curve\n",
    "from sklearn.metrics import precision_score, recall_score, accuracy_score\n",
    "\n",
    "from sklearn.model_selection import train_test_split, GridSearchCV"
   ]
  },
  {
   "cell_type": "code",
   "execution_count": 199,
   "metadata": {},
   "outputs": [],
   "source": [
    "# Load the dataset\n",
    "df = pd.read_csv(\"./data/telecom_customer_churn.csv\")"
   ]
  },
  {
   "cell_type": "markdown",
   "metadata": {},
   "source": [
    "Let's generate a pandas profile report to get an in-depth report of the dataset"
   ]
  },
  {
   "cell_type": "code",
   "execution_count": 200,
   "metadata": {},
   "outputs": [
    {
     "data": {
      "application/vnd.jupyter.widget-view+json": {
       "model_id": "a180bce6db01474da89653ced8d3d665",
       "version_major": 2,
       "version_minor": 0
      },
      "text/plain": [
       "Summarize dataset:   0%|          | 0/5 [00:00<?, ?it/s]"
      ]
     },
     "metadata": {},
     "output_type": "display_data"
    },
    {
     "data": {
      "application/vnd.jupyter.widget-view+json": {
       "model_id": "a442cf9df01a483f90f009721dbf024c",
       "version_major": 2,
       "version_minor": 0
      },
      "text/plain": [
       "Generate report structure:   0%|          | 0/1 [00:00<?, ?it/s]"
      ]
     },
     "metadata": {},
     "output_type": "display_data"
    },
    {
     "data": {
      "application/vnd.jupyter.widget-view+json": {
       "model_id": "91932f4a54ab4d86892f8c109026d626",
       "version_major": 2,
       "version_minor": 0
      },
      "text/plain": [
       "Render HTML:   0%|          | 0/1 [00:00<?, ?it/s]"
      ]
     },
     "metadata": {},
     "output_type": "display_data"
    },
    {
     "data": {
      "application/vnd.jupyter.widget-view+json": {
       "model_id": "42401802ecc84908842e46a8586f88a7",
       "version_major": 2,
       "version_minor": 0
      },
      "text/plain": [
       "Export report to file:   0%|          | 0/1 [00:00<?, ?it/s]"
      ]
     },
     "metadata": {},
     "output_type": "display_data"
    }
   ],
   "source": [
    "profile = ProfileReport(df, title=\"Telecom Data Report\")\n",
    "profile.to_file(\"dataset-report/index.html\")"
   ]
  },
  {
   "cell_type": "code",
   "execution_count": 201,
   "metadata": {},
   "outputs": [],
   "source": [
    "# Modify the column names\n",
    "df.columns=df.columns.str.replace(\" \",\"\").str.lower()"
   ]
  },
  {
   "cell_type": "markdown",
   "metadata": {},
   "source": [
    "Let's deal with null values"
   ]
  },
  {
   "cell_type": "code",
   "execution_count": 202,
   "metadata": {},
   "outputs": [],
   "source": [
    "df.avgmonthlylongdistancecharges=df.avgmonthlylongdistancecharges.fillna(0.0)\n",
    "df.multiplelines=df.multiplelines.fillna('no phone service')\n",
    "no_internet=['internettype','onlinesecurity','onlinebackup','deviceprotectionplan','premiumtechsupport','streamingtv','streamingmovies','streamingmusic','unlimiteddata']\n",
    "df[no_internet]=df[no_internet].fillna('no internet service')\n",
    "df.avgmonthlygbdownload=df.avgmonthlygbdownload.fillna(0)"
   ]
  },
  {
   "cell_type": "markdown",
   "metadata": {},
   "source": [
    "We can use the geographic data and the churn reason column to identify in which areas the network reception is poor and improve the network service in those areas.\n",
    "\n",
    "The geographic aspect of it can be a separate analysis and help out the company with improving network reliability.\n",
    "\n",
    "So we are considering only the non-geographical features to predict customer churn."
   ]
  },
  {
   "cell_type": "code",
   "execution_count": 203,
   "metadata": {},
   "outputs": [
    {
     "data": {
      "text/plain": [
       "(7043, 30)"
      ]
     },
     "execution_count": 203,
     "metadata": {},
     "output_type": "execute_result"
    }
   ],
   "source": [
    "# Let's drop unnecessary columns\n",
    "\n",
    "df=df.drop(columns=['customerid','churncategory','churnreason','totalrefunds','zipcode','longitude','latitude','city'])\n",
    "\n",
    "df.shape"
   ]
  },
  {
   "cell_type": "code",
   "execution_count": 204,
   "metadata": {},
   "outputs": [
    {
     "data": {
      "text/plain": [
       "gender                           0\n",
       "age                              0\n",
       "married                          0\n",
       "numberofdependents               0\n",
       "numberofreferrals                0\n",
       "tenureinmonths                   0\n",
       "offer                            0\n",
       "phoneservice                     0\n",
       "avgmonthlylongdistancecharges    0\n",
       "multiplelines                    0\n",
       "internetservice                  0\n",
       "internettype                     0\n",
       "avgmonthlygbdownload             0\n",
       "onlinesecurity                   0\n",
       "onlinebackup                     0\n",
       "deviceprotectionplan             0\n",
       "premiumtechsupport               0\n",
       "streamingtv                      0\n",
       "streamingmovies                  0\n",
       "streamingmusic                   0\n",
       "unlimiteddata                    0\n",
       "contract                         0\n",
       "paperlessbilling                 0\n",
       "paymentmethod                    0\n",
       "monthlycharge                    0\n",
       "totalcharges                     0\n",
       "totalextradatacharges            0\n",
       "totallongdistancecharges         0\n",
       "totalrevenue                     0\n",
       "customerstatus                   0\n",
       "dtype: int64"
      ]
     },
     "execution_count": 204,
     "metadata": {},
     "output_type": "execute_result"
    }
   ],
   "source": [
    "# Let's check if there are any null values\n",
    "df.isnull().sum()"
   ]
  },
  {
   "cell_type": "code",
   "execution_count": 205,
   "metadata": {},
   "outputs": [],
   "source": [
    "# Let's drop the newly joined customer data to remove bias\n",
    "df=df.loc[~df.customerstatus.str.contains('Join')]\n",
    "df.reset_index(drop=True,inplace=True)"
   ]
  },
  {
   "cell_type": "code",
   "execution_count": 206,
   "metadata": {},
   "outputs": [
    {
     "data": {
      "text/plain": [
       "(6589, 30)"
      ]
     },
     "execution_count": 206,
     "metadata": {},
     "output_type": "execute_result"
    }
   ],
   "source": [
    "df.shape"
   ]
  },
  {
   "cell_type": "markdown",
   "metadata": {},
   "source": [
    "### Feature Transformation and Scaling\n",
    "\n",
    "1. Features having binary values are replaced by 1 and 0\n",
    "2. Features having more than two uniques are encoded using a label encoder\n",
    "3. Continous features are standarized using sk-learn scaler method"
   ]
  },
  {
   "cell_type": "code",
   "execution_count": 207,
   "metadata": {},
   "outputs": [
    {
     "name": "stdout",
     "output_type": "stream",
     "text": [
      "5 columns were label encoded.\n"
     ]
    }
   ],
   "source": [
    "label_encoder = LabelEncoder()\n",
    "\n",
    "# Label Encoding will be used for columns with 2 or less unique values\n",
    "\n",
    "encoded_labels_count = 0\n",
    "for col in df.columns[1:]:\n",
    "    if df[col].dtype == 'object':\n",
    "        if len(list(df[col].unique())) <= 2:\n",
    "            label_encoder.fit(df[col])\n",
    "            df[col] = label_encoder.transform(df[col])\n",
    "            encoded_labels_count += 1\n",
    "print('{} columns were label encoded.'.format(encoded_labels_count))"
   ]
  },
  {
   "cell_type": "code",
   "execution_count": 208,
   "metadata": {},
   "outputs": [],
   "source": [
    "df['gender'] = [1 if each == 'Female' else 0 for each in df['gender']]"
   ]
  },
  {
   "cell_type": "code",
   "execution_count": 209,
   "metadata": {},
   "outputs": [
    {
     "data": {
      "text/html": [
       "<div>\n",
       "<style scoped>\n",
       "    .dataframe tbody tr th:only-of-type {\n",
       "        vertical-align: middle;\n",
       "    }\n",
       "\n",
       "    .dataframe tbody tr th {\n",
       "        vertical-align: top;\n",
       "    }\n",
       "\n",
       "    .dataframe thead th {\n",
       "        text-align: right;\n",
       "    }\n",
       "</style>\n",
       "<table border=\"1\" class=\"dataframe\">\n",
       "  <thead>\n",
       "    <tr style=\"text-align: right;\">\n",
       "      <th></th>\n",
       "      <th>gender</th>\n",
       "      <th>age</th>\n",
       "      <th>married</th>\n",
       "      <th>numberofdependents</th>\n",
       "      <th>numberofreferrals</th>\n",
       "      <th>tenureinmonths</th>\n",
       "      <th>offer</th>\n",
       "      <th>phoneservice</th>\n",
       "      <th>avgmonthlylongdistancecharges</th>\n",
       "      <th>multiplelines</th>\n",
       "      <th>...</th>\n",
       "      <th>unlimiteddata</th>\n",
       "      <th>contract</th>\n",
       "      <th>paperlessbilling</th>\n",
       "      <th>paymentmethod</th>\n",
       "      <th>monthlycharge</th>\n",
       "      <th>totalcharges</th>\n",
       "      <th>totalextradatacharges</th>\n",
       "      <th>totallongdistancecharges</th>\n",
       "      <th>totalrevenue</th>\n",
       "      <th>customerstatus</th>\n",
       "    </tr>\n",
       "  </thead>\n",
       "  <tbody>\n",
       "    <tr>\n",
       "      <th>0</th>\n",
       "      <td>1</td>\n",
       "      <td>37</td>\n",
       "      <td>1</td>\n",
       "      <td>0</td>\n",
       "      <td>2</td>\n",
       "      <td>9</td>\n",
       "      <td>None</td>\n",
       "      <td>1</td>\n",
       "      <td>42.39</td>\n",
       "      <td>No</td>\n",
       "      <td>...</td>\n",
       "      <td>Yes</td>\n",
       "      <td>One Year</td>\n",
       "      <td>1</td>\n",
       "      <td>Credit Card</td>\n",
       "      <td>65.6</td>\n",
       "      <td>593.30</td>\n",
       "      <td>0</td>\n",
       "      <td>381.51</td>\n",
       "      <td>974.81</td>\n",
       "      <td>1</td>\n",
       "    </tr>\n",
       "    <tr>\n",
       "      <th>1</th>\n",
       "      <td>0</td>\n",
       "      <td>46</td>\n",
       "      <td>0</td>\n",
       "      <td>0</td>\n",
       "      <td>0</td>\n",
       "      <td>9</td>\n",
       "      <td>None</td>\n",
       "      <td>1</td>\n",
       "      <td>10.69</td>\n",
       "      <td>Yes</td>\n",
       "      <td>...</td>\n",
       "      <td>No</td>\n",
       "      <td>Month-to-Month</td>\n",
       "      <td>0</td>\n",
       "      <td>Credit Card</td>\n",
       "      <td>-4.0</td>\n",
       "      <td>542.40</td>\n",
       "      <td>10</td>\n",
       "      <td>96.21</td>\n",
       "      <td>610.28</td>\n",
       "      <td>1</td>\n",
       "    </tr>\n",
       "    <tr>\n",
       "      <th>2</th>\n",
       "      <td>0</td>\n",
       "      <td>50</td>\n",
       "      <td>0</td>\n",
       "      <td>0</td>\n",
       "      <td>0</td>\n",
       "      <td>4</td>\n",
       "      <td>Offer E</td>\n",
       "      <td>1</td>\n",
       "      <td>33.65</td>\n",
       "      <td>No</td>\n",
       "      <td>...</td>\n",
       "      <td>Yes</td>\n",
       "      <td>Month-to-Month</td>\n",
       "      <td>1</td>\n",
       "      <td>Bank Withdrawal</td>\n",
       "      <td>73.9</td>\n",
       "      <td>280.85</td>\n",
       "      <td>0</td>\n",
       "      <td>134.60</td>\n",
       "      <td>415.45</td>\n",
       "      <td>0</td>\n",
       "    </tr>\n",
       "    <tr>\n",
       "      <th>3</th>\n",
       "      <td>0</td>\n",
       "      <td>78</td>\n",
       "      <td>1</td>\n",
       "      <td>0</td>\n",
       "      <td>1</td>\n",
       "      <td>13</td>\n",
       "      <td>Offer D</td>\n",
       "      <td>1</td>\n",
       "      <td>27.82</td>\n",
       "      <td>No</td>\n",
       "      <td>...</td>\n",
       "      <td>Yes</td>\n",
       "      <td>Month-to-Month</td>\n",
       "      <td>1</td>\n",
       "      <td>Bank Withdrawal</td>\n",
       "      <td>98.0</td>\n",
       "      <td>1237.85</td>\n",
       "      <td>0</td>\n",
       "      <td>361.66</td>\n",
       "      <td>1599.51</td>\n",
       "      <td>0</td>\n",
       "    </tr>\n",
       "    <tr>\n",
       "      <th>4</th>\n",
       "      <td>1</td>\n",
       "      <td>75</td>\n",
       "      <td>1</td>\n",
       "      <td>0</td>\n",
       "      <td>3</td>\n",
       "      <td>3</td>\n",
       "      <td>None</td>\n",
       "      <td>1</td>\n",
       "      <td>7.38</td>\n",
       "      <td>No</td>\n",
       "      <td>...</td>\n",
       "      <td>Yes</td>\n",
       "      <td>Month-to-Month</td>\n",
       "      <td>1</td>\n",
       "      <td>Credit Card</td>\n",
       "      <td>83.9</td>\n",
       "      <td>267.40</td>\n",
       "      <td>0</td>\n",
       "      <td>22.14</td>\n",
       "      <td>289.54</td>\n",
       "      <td>0</td>\n",
       "    </tr>\n",
       "  </tbody>\n",
       "</table>\n",
       "<p>5 rows × 30 columns</p>\n",
       "</div>"
      ],
      "text/plain": [
       "   gender  age  married  numberofdependents  numberofreferrals  \\\n",
       "0       1   37        1                   0                  2   \n",
       "1       0   46        0                   0                  0   \n",
       "2       0   50        0                   0                  0   \n",
       "3       0   78        1                   0                  1   \n",
       "4       1   75        1                   0                  3   \n",
       "\n",
       "   tenureinmonths    offer  phoneservice  avgmonthlylongdistancecharges  \\\n",
       "0               9     None             1                          42.39   \n",
       "1               9     None             1                          10.69   \n",
       "2               4  Offer E             1                          33.65   \n",
       "3              13  Offer D             1                          27.82   \n",
       "4               3     None             1                           7.38   \n",
       "\n",
       "  multiplelines  ...  unlimiteddata        contract  paperlessbilling  \\\n",
       "0            No  ...            Yes        One Year                 1   \n",
       "1           Yes  ...             No  Month-to-Month                 0   \n",
       "2            No  ...            Yes  Month-to-Month                 1   \n",
       "3            No  ...            Yes  Month-to-Month                 1   \n",
       "4            No  ...            Yes  Month-to-Month                 1   \n",
       "\n",
       "     paymentmethod monthlycharge totalcharges totalextradatacharges  \\\n",
       "0      Credit Card          65.6       593.30                     0   \n",
       "1      Credit Card          -4.0       542.40                    10   \n",
       "2  Bank Withdrawal          73.9       280.85                     0   \n",
       "3  Bank Withdrawal          98.0      1237.85                     0   \n",
       "4      Credit Card          83.9       267.40                     0   \n",
       "\n",
       "  totallongdistancecharges totalrevenue customerstatus  \n",
       "0                   381.51       974.81              1  \n",
       "1                    96.21       610.28              1  \n",
       "2                   134.60       415.45              0  \n",
       "3                   361.66      1599.51              0  \n",
       "4                    22.14       289.54              0  \n",
       "\n",
       "[5 rows x 30 columns]"
      ]
     },
     "execution_count": 209,
     "metadata": {},
     "output_type": "execute_result"
    }
   ],
   "source": [
    "df.head()"
   ]
  },
  {
   "cell_type": "code",
   "execution_count": 210,
   "metadata": {},
   "outputs": [],
   "source": [
    "def encode_data(dataframe):\n",
    "    if dataframe.dtype == \"object\":\n",
    "        dataframe = LabelEncoder().fit_transform(dataframe)\n",
    "    return dataframe\n",
    "\n",
    "# Label Encode other columns\n",
    "data = df.apply(encode_data)"
   ]
  },
  {
   "cell_type": "code",
   "execution_count": 211,
   "metadata": {},
   "outputs": [
    {
     "data": {
      "text/html": [
       "<div>\n",
       "<style scoped>\n",
       "    .dataframe tbody tr th:only-of-type {\n",
       "        vertical-align: middle;\n",
       "    }\n",
       "\n",
       "    .dataframe tbody tr th {\n",
       "        vertical-align: top;\n",
       "    }\n",
       "\n",
       "    .dataframe thead th {\n",
       "        text-align: right;\n",
       "    }\n",
       "</style>\n",
       "<table border=\"1\" class=\"dataframe\">\n",
       "  <thead>\n",
       "    <tr style=\"text-align: right;\">\n",
       "      <th></th>\n",
       "      <th>gender</th>\n",
       "      <th>age</th>\n",
       "      <th>married</th>\n",
       "      <th>numberofdependents</th>\n",
       "      <th>numberofreferrals</th>\n",
       "      <th>tenureinmonths</th>\n",
       "      <th>offer</th>\n",
       "      <th>phoneservice</th>\n",
       "      <th>avgmonthlylongdistancecharges</th>\n",
       "      <th>multiplelines</th>\n",
       "      <th>...</th>\n",
       "      <th>unlimiteddata</th>\n",
       "      <th>contract</th>\n",
       "      <th>paperlessbilling</th>\n",
       "      <th>paymentmethod</th>\n",
       "      <th>monthlycharge</th>\n",
       "      <th>totalcharges</th>\n",
       "      <th>totalextradatacharges</th>\n",
       "      <th>totallongdistancecharges</th>\n",
       "      <th>totalrevenue</th>\n",
       "      <th>customerstatus</th>\n",
       "    </tr>\n",
       "  </thead>\n",
       "  <tbody>\n",
       "    <tr>\n",
       "      <th>0</th>\n",
       "      <td>1</td>\n",
       "      <td>37</td>\n",
       "      <td>1</td>\n",
       "      <td>0</td>\n",
       "      <td>2</td>\n",
       "      <td>9</td>\n",
       "      <td>0</td>\n",
       "      <td>1</td>\n",
       "      <td>42.39</td>\n",
       "      <td>0</td>\n",
       "      <td>...</td>\n",
       "      <td>1</td>\n",
       "      <td>1</td>\n",
       "      <td>1</td>\n",
       "      <td>1</td>\n",
       "      <td>65.6</td>\n",
       "      <td>593.30</td>\n",
       "      <td>0</td>\n",
       "      <td>381.51</td>\n",
       "      <td>974.81</td>\n",
       "      <td>1</td>\n",
       "    </tr>\n",
       "    <tr>\n",
       "      <th>1</th>\n",
       "      <td>0</td>\n",
       "      <td>46</td>\n",
       "      <td>0</td>\n",
       "      <td>0</td>\n",
       "      <td>0</td>\n",
       "      <td>9</td>\n",
       "      <td>0</td>\n",
       "      <td>1</td>\n",
       "      <td>10.69</td>\n",
       "      <td>1</td>\n",
       "      <td>...</td>\n",
       "      <td>0</td>\n",
       "      <td>0</td>\n",
       "      <td>0</td>\n",
       "      <td>1</td>\n",
       "      <td>-4.0</td>\n",
       "      <td>542.40</td>\n",
       "      <td>10</td>\n",
       "      <td>96.21</td>\n",
       "      <td>610.28</td>\n",
       "      <td>1</td>\n",
       "    </tr>\n",
       "    <tr>\n",
       "      <th>2</th>\n",
       "      <td>0</td>\n",
       "      <td>50</td>\n",
       "      <td>0</td>\n",
       "      <td>0</td>\n",
       "      <td>0</td>\n",
       "      <td>4</td>\n",
       "      <td>5</td>\n",
       "      <td>1</td>\n",
       "      <td>33.65</td>\n",
       "      <td>0</td>\n",
       "      <td>...</td>\n",
       "      <td>1</td>\n",
       "      <td>0</td>\n",
       "      <td>1</td>\n",
       "      <td>0</td>\n",
       "      <td>73.9</td>\n",
       "      <td>280.85</td>\n",
       "      <td>0</td>\n",
       "      <td>134.60</td>\n",
       "      <td>415.45</td>\n",
       "      <td>0</td>\n",
       "    </tr>\n",
       "    <tr>\n",
       "      <th>3</th>\n",
       "      <td>0</td>\n",
       "      <td>78</td>\n",
       "      <td>1</td>\n",
       "      <td>0</td>\n",
       "      <td>1</td>\n",
       "      <td>13</td>\n",
       "      <td>4</td>\n",
       "      <td>1</td>\n",
       "      <td>27.82</td>\n",
       "      <td>0</td>\n",
       "      <td>...</td>\n",
       "      <td>1</td>\n",
       "      <td>0</td>\n",
       "      <td>1</td>\n",
       "      <td>0</td>\n",
       "      <td>98.0</td>\n",
       "      <td>1237.85</td>\n",
       "      <td>0</td>\n",
       "      <td>361.66</td>\n",
       "      <td>1599.51</td>\n",
       "      <td>0</td>\n",
       "    </tr>\n",
       "    <tr>\n",
       "      <th>4</th>\n",
       "      <td>1</td>\n",
       "      <td>75</td>\n",
       "      <td>1</td>\n",
       "      <td>0</td>\n",
       "      <td>3</td>\n",
       "      <td>3</td>\n",
       "      <td>0</td>\n",
       "      <td>1</td>\n",
       "      <td>7.38</td>\n",
       "      <td>0</td>\n",
       "      <td>...</td>\n",
       "      <td>1</td>\n",
       "      <td>0</td>\n",
       "      <td>1</td>\n",
       "      <td>1</td>\n",
       "      <td>83.9</td>\n",
       "      <td>267.40</td>\n",
       "      <td>0</td>\n",
       "      <td>22.14</td>\n",
       "      <td>289.54</td>\n",
       "      <td>0</td>\n",
       "    </tr>\n",
       "  </tbody>\n",
       "</table>\n",
       "<p>5 rows × 30 columns</p>\n",
       "</div>"
      ],
      "text/plain": [
       "   gender  age  married  numberofdependents  numberofreferrals  \\\n",
       "0       1   37        1                   0                  2   \n",
       "1       0   46        0                   0                  0   \n",
       "2       0   50        0                   0                  0   \n",
       "3       0   78        1                   0                  1   \n",
       "4       1   75        1                   0                  3   \n",
       "\n",
       "   tenureinmonths  offer  phoneservice  avgmonthlylongdistancecharges  \\\n",
       "0               9      0             1                          42.39   \n",
       "1               9      0             1                          10.69   \n",
       "2               4      5             1                          33.65   \n",
       "3              13      4             1                          27.82   \n",
       "4               3      0             1                           7.38   \n",
       "\n",
       "   multiplelines  ...  unlimiteddata  contract  paperlessbilling  \\\n",
       "0              0  ...              1         1                 1   \n",
       "1              1  ...              0         0                 0   \n",
       "2              0  ...              1         0                 1   \n",
       "3              0  ...              1         0                 1   \n",
       "4              0  ...              1         0                 1   \n",
       "\n",
       "   paymentmethod  monthlycharge  totalcharges  totalextradatacharges  \\\n",
       "0              1           65.6        593.30                      0   \n",
       "1              1           -4.0        542.40                     10   \n",
       "2              0           73.9        280.85                      0   \n",
       "3              0           98.0       1237.85                      0   \n",
       "4              1           83.9        267.40                      0   \n",
       "\n",
       "   totallongdistancecharges  totalrevenue  customerstatus  \n",
       "0                    381.51        974.81               1  \n",
       "1                     96.21        610.28               1  \n",
       "2                    134.60        415.45               0  \n",
       "3                    361.66       1599.51               0  \n",
       "4                     22.14        289.54               0  \n",
       "\n",
       "[5 rows x 30 columns]"
      ]
     },
     "execution_count": 211,
     "metadata": {},
     "output_type": "execute_result"
    }
   ],
   "source": [
    "data.head()"
   ]
  },
  {
   "cell_type": "markdown",
   "metadata": {},
   "source": [
    "### Dataset Splitting"
   ]
  },
  {
   "cell_type": "code",
   "execution_count": 212,
   "metadata": {},
   "outputs": [],
   "source": [
    "X = data.drop(columns = \"customerstatus\")\n",
    "y = data[\"customerstatus\"].values\n",
    "\n",
    "X_train, X_test, y_train, y_test = train_test_split(X, y, test_size = 0.3, random_state = 4, stratify =y)"
   ]
  },
  {
   "cell_type": "markdown",
   "metadata": {},
   "source": [
    "#### We need to scale a few columns"
   ]
  },
  {
   "cell_type": "code",
   "execution_count": 213,
   "metadata": {},
   "outputs": [],
   "source": [
    "cols_to_scale = [\n",
    "    'totalcharges',\n",
    "    'avgmonthlylongdistancecharges',\n",
    "    'monthlycharge',\n",
    "    'totalrevenue',\n",
    "    'totallongdistancecharges',\n",
    "    'tenureinmonths',\n",
    "    'totallongdistancecharges',\n",
    "    'totalextradatacharges'\n",
    "]"
   ]
  },
  {
   "cell_type": "code",
   "execution_count": 214,
   "metadata": {},
   "outputs": [],
   "source": [
    "# Use the standard scaled\n",
    "X_train[cols_to_scale] = StandardScaler().fit_transform(X_train[cols_to_scale])\n",
    "X_test[cols_to_scale] = StandardScaler().fit_transform(X_test[cols_to_scale])"
   ]
  },
  {
   "cell_type": "code",
   "execution_count": 215,
   "metadata": {},
   "outputs": [
    {
     "data": {
      "text/html": [
       "<div>\n",
       "<style scoped>\n",
       "    .dataframe tbody tr th:only-of-type {\n",
       "        vertical-align: middle;\n",
       "    }\n",
       "\n",
       "    .dataframe tbody tr th {\n",
       "        vertical-align: top;\n",
       "    }\n",
       "\n",
       "    .dataframe thead th {\n",
       "        text-align: right;\n",
       "    }\n",
       "</style>\n",
       "<table border=\"1\" class=\"dataframe\">\n",
       "  <thead>\n",
       "    <tr style=\"text-align: right;\">\n",
       "      <th></th>\n",
       "      <th>gender</th>\n",
       "      <th>age</th>\n",
       "      <th>married</th>\n",
       "      <th>numberofdependents</th>\n",
       "      <th>numberofreferrals</th>\n",
       "      <th>tenureinmonths</th>\n",
       "      <th>offer</th>\n",
       "      <th>phoneservice</th>\n",
       "      <th>avgmonthlylongdistancecharges</th>\n",
       "      <th>multiplelines</th>\n",
       "      <th>...</th>\n",
       "      <th>streamingmusic</th>\n",
       "      <th>unlimiteddata</th>\n",
       "      <th>contract</th>\n",
       "      <th>paperlessbilling</th>\n",
       "      <th>paymentmethod</th>\n",
       "      <th>monthlycharge</th>\n",
       "      <th>totalcharges</th>\n",
       "      <th>totalextradatacharges</th>\n",
       "      <th>totallongdistancecharges</th>\n",
       "      <th>totalrevenue</th>\n",
       "    </tr>\n",
       "  </thead>\n",
       "  <tbody>\n",
       "    <tr>\n",
       "      <th>6587</th>\n",
       "      <td>0</td>\n",
       "      <td>21</td>\n",
       "      <td>1</td>\n",
       "      <td>0</td>\n",
       "      <td>5</td>\n",
       "      <td>1.367434</td>\n",
       "      <td>1</td>\n",
       "      <td>1</td>\n",
       "      <td>-1.337224</td>\n",
       "      <td>0</td>\n",
       "      <td>...</td>\n",
       "      <td>1</td>\n",
       "      <td>1</td>\n",
       "      <td>2</td>\n",
       "      <td>0</td>\n",
       "      <td>1</td>\n",
       "      <td>0.095715</td>\n",
       "      <td>0.979074</td>\n",
       "      <td>-0.280175</td>\n",
       "      <td>-0.761986</td>\n",
       "      <td>0.548730</td>\n",
       "    </tr>\n",
       "    <tr>\n",
       "      <th>1784</th>\n",
       "      <td>1</td>\n",
       "      <td>52</td>\n",
       "      <td>0</td>\n",
       "      <td>0</td>\n",
       "      <td>0</td>\n",
       "      <td>-0.976998</td>\n",
       "      <td>4</td>\n",
       "      <td>1</td>\n",
       "      <td>0.108568</td>\n",
       "      <td>1</td>\n",
       "      <td>...</td>\n",
       "      <td>1</td>\n",
       "      <td>0</td>\n",
       "      <td>0</td>\n",
       "      <td>1</td>\n",
       "      <td>1</td>\n",
       "      <td>-0.191255</td>\n",
       "      <td>-0.803533</td>\n",
       "      <td>2.407041</td>\n",
       "      <td>-0.610886</td>\n",
       "      <td>-0.798239</td>\n",
       "    </tr>\n",
       "    <tr>\n",
       "      <th>5049</th>\n",
       "      <td>1</td>\n",
       "      <td>21</td>\n",
       "      <td>0</td>\n",
       "      <td>0</td>\n",
       "      <td>0</td>\n",
       "      <td>-0.725809</td>\n",
       "      <td>0</td>\n",
       "      <td>1</td>\n",
       "      <td>1.258118</td>\n",
       "      <td>0</td>\n",
       "      <td>...</td>\n",
       "      <td>2</td>\n",
       "      <td>2</td>\n",
       "      <td>1</td>\n",
       "      <td>0</td>\n",
       "      <td>1</td>\n",
       "      <td>-1.461661</td>\n",
       "      <td>-0.945551</td>\n",
       "      <td>-0.280175</td>\n",
       "      <td>-0.079600</td>\n",
       "      <td>-0.777084</td>\n",
       "    </tr>\n",
       "    <tr>\n",
       "      <th>1100</th>\n",
       "      <td>1</td>\n",
       "      <td>51</td>\n",
       "      <td>0</td>\n",
       "      <td>0</td>\n",
       "      <td>0</td>\n",
       "      <td>0.320813</td>\n",
       "      <td>0</td>\n",
       "      <td>0</td>\n",
       "      <td>-1.473753</td>\n",
       "      <td>2</td>\n",
       "      <td>...</td>\n",
       "      <td>1</td>\n",
       "      <td>0</td>\n",
       "      <td>1</td>\n",
       "      <td>1</td>\n",
       "      <td>0</td>\n",
       "      <td>-0.326679</td>\n",
       "      <td>-0.030083</td>\n",
       "      <td>2.790929</td>\n",
       "      <td>-0.929360</td>\n",
       "      <td>-0.275128</td>\n",
       "    </tr>\n",
       "    <tr>\n",
       "      <th>5353</th>\n",
       "      <td>1</td>\n",
       "      <td>76</td>\n",
       "      <td>0</td>\n",
       "      <td>0</td>\n",
       "      <td>0</td>\n",
       "      <td>-1.060728</td>\n",
       "      <td>5</td>\n",
       "      <td>1</td>\n",
       "      <td>-0.642342</td>\n",
       "      <td>1</td>\n",
       "      <td>...</td>\n",
       "      <td>0</td>\n",
       "      <td>1</td>\n",
       "      <td>0</td>\n",
       "      <td>1</td>\n",
       "      <td>0</td>\n",
       "      <td>0.630962</td>\n",
       "      <td>-0.732291</td>\n",
       "      <td>-0.280175</td>\n",
       "      <td>-0.792447</td>\n",
       "      <td>-0.820472</td>\n",
       "    </tr>\n",
       "  </tbody>\n",
       "</table>\n",
       "<p>5 rows × 29 columns</p>\n",
       "</div>"
      ],
      "text/plain": [
       "      gender  age  married  numberofdependents  numberofreferrals  \\\n",
       "6587       0   21        1                   0                  5   \n",
       "1784       1   52        0                   0                  0   \n",
       "5049       1   21        0                   0                  0   \n",
       "1100       1   51        0                   0                  0   \n",
       "5353       1   76        0                   0                  0   \n",
       "\n",
       "      tenureinmonths  offer  phoneservice  avgmonthlylongdistancecharges  \\\n",
       "6587        1.367434      1             1                      -1.337224   \n",
       "1784       -0.976998      4             1                       0.108568   \n",
       "5049       -0.725809      0             1                       1.258118   \n",
       "1100        0.320813      0             0                      -1.473753   \n",
       "5353       -1.060728      5             1                      -0.642342   \n",
       "\n",
       "      multiplelines  ...  streamingmusic  unlimiteddata  contract  \\\n",
       "6587              0  ...               1              1         2   \n",
       "1784              1  ...               1              0         0   \n",
       "5049              0  ...               2              2         1   \n",
       "1100              2  ...               1              0         1   \n",
       "5353              1  ...               0              1         0   \n",
       "\n",
       "      paperlessbilling  paymentmethod  monthlycharge  totalcharges  \\\n",
       "6587                 0              1       0.095715      0.979074   \n",
       "1784                 1              1      -0.191255     -0.803533   \n",
       "5049                 0              1      -1.461661     -0.945551   \n",
       "1100                 1              0      -0.326679     -0.030083   \n",
       "5353                 1              0       0.630962     -0.732291   \n",
       "\n",
       "      totalextradatacharges  totallongdistancecharges  totalrevenue  \n",
       "6587              -0.280175                 -0.761986      0.548730  \n",
       "1784               2.407041                 -0.610886     -0.798239  \n",
       "5049              -0.280175                 -0.079600     -0.777084  \n",
       "1100               2.790929                 -0.929360     -0.275128  \n",
       "5353              -0.280175                 -0.792447     -0.820472  \n",
       "\n",
       "[5 rows x 29 columns]"
      ]
     },
     "execution_count": 215,
     "metadata": {},
     "output_type": "execute_result"
    }
   ],
   "source": [
    "X_train.head()"
   ]
  },
  {
   "cell_type": "code",
   "execution_count": 216,
   "metadata": {},
   "outputs": [
    {
     "data": {
      "text/html": [
       "<div>\n",
       "<style scoped>\n",
       "    .dataframe tbody tr th:only-of-type {\n",
       "        vertical-align: middle;\n",
       "    }\n",
       "\n",
       "    .dataframe tbody tr th {\n",
       "        vertical-align: top;\n",
       "    }\n",
       "\n",
       "    .dataframe thead th {\n",
       "        text-align: right;\n",
       "    }\n",
       "</style>\n",
       "<table border=\"1\" class=\"dataframe\">\n",
       "  <thead>\n",
       "    <tr style=\"text-align: right;\">\n",
       "      <th></th>\n",
       "      <th>gender</th>\n",
       "      <th>age</th>\n",
       "      <th>married</th>\n",
       "      <th>numberofdependents</th>\n",
       "      <th>numberofreferrals</th>\n",
       "      <th>tenureinmonths</th>\n",
       "      <th>offer</th>\n",
       "      <th>phoneservice</th>\n",
       "      <th>avgmonthlylongdistancecharges</th>\n",
       "      <th>multiplelines</th>\n",
       "      <th>...</th>\n",
       "      <th>streamingmusic</th>\n",
       "      <th>unlimiteddata</th>\n",
       "      <th>contract</th>\n",
       "      <th>paperlessbilling</th>\n",
       "      <th>paymentmethod</th>\n",
       "      <th>monthlycharge</th>\n",
       "      <th>totalcharges</th>\n",
       "      <th>totalextradatacharges</th>\n",
       "      <th>totallongdistancecharges</th>\n",
       "      <th>totalrevenue</th>\n",
       "    </tr>\n",
       "  </thead>\n",
       "  <tbody>\n",
       "    <tr>\n",
       "      <th>2989</th>\n",
       "      <td>0</td>\n",
       "      <td>45</td>\n",
       "      <td>1</td>\n",
       "      <td>3</td>\n",
       "      <td>1</td>\n",
       "      <td>-1.113051</td>\n",
       "      <td>0</td>\n",
       "      <td>1</td>\n",
       "      <td>0.488738</td>\n",
       "      <td>0</td>\n",
       "      <td>...</td>\n",
       "      <td>0</td>\n",
       "      <td>1</td>\n",
       "      <td>0</td>\n",
       "      <td>0</td>\n",
       "      <td>0</td>\n",
       "      <td>-0.662423</td>\n",
       "      <td>-0.920499</td>\n",
       "      <td>-0.272466</td>\n",
       "      <td>-0.663402</td>\n",
       "      <td>-0.929002</td>\n",
       "    </tr>\n",
       "    <tr>\n",
       "      <th>4699</th>\n",
       "      <td>1</td>\n",
       "      <td>23</td>\n",
       "      <td>0</td>\n",
       "      <td>0</td>\n",
       "      <td>0</td>\n",
       "      <td>-1.402913</td>\n",
       "      <td>5</td>\n",
       "      <td>1</td>\n",
       "      <td>-1.185976</td>\n",
       "      <td>0</td>\n",
       "      <td>...</td>\n",
       "      <td>1</td>\n",
       "      <td>1</td>\n",
       "      <td>0</td>\n",
       "      <td>0</td>\n",
       "      <td>1</td>\n",
       "      <td>-0.620879</td>\n",
       "      <td>-1.062208</td>\n",
       "      <td>-0.272466</td>\n",
       "      <td>-0.942060</td>\n",
       "      <td>-1.124736</td>\n",
       "    </tr>\n",
       "    <tr>\n",
       "      <th>6584</th>\n",
       "      <td>1</td>\n",
       "      <td>36</td>\n",
       "      <td>0</td>\n",
       "      <td>0</td>\n",
       "      <td>0</td>\n",
       "      <td>-1.278686</td>\n",
       "      <td>0</td>\n",
       "      <td>1</td>\n",
       "      <td>-1.389031</td>\n",
       "      <td>0</td>\n",
       "      <td>...</td>\n",
       "      <td>2</td>\n",
       "      <td>2</td>\n",
       "      <td>0</td>\n",
       "      <td>0</td>\n",
       "      <td>0</td>\n",
       "      <td>-1.419799</td>\n",
       "      <td>-1.044867</td>\n",
       "      <td>-0.272466</td>\n",
       "      <td>-0.938684</td>\n",
       "      <td>-1.110003</td>\n",
       "    </tr>\n",
       "    <tr>\n",
       "      <th>5943</th>\n",
       "      <td>0</td>\n",
       "      <td>54</td>\n",
       "      <td>0</td>\n",
       "      <td>0</td>\n",
       "      <td>0</td>\n",
       "      <td>-1.154460</td>\n",
       "      <td>0</td>\n",
       "      <td>1</td>\n",
       "      <td>-0.141320</td>\n",
       "      <td>0</td>\n",
       "      <td>...</td>\n",
       "      <td>0</td>\n",
       "      <td>1</td>\n",
       "      <td>0</td>\n",
       "      <td>0</td>\n",
       "      <td>0</td>\n",
       "      <td>0.120519</td>\n",
       "      <td>-0.868103</td>\n",
       "      <td>-0.272466</td>\n",
       "      <td>-0.777066</td>\n",
       "      <td>-0.921654</td>\n",
       "    </tr>\n",
       "    <tr>\n",
       "      <th>4873</th>\n",
       "      <td>0</td>\n",
       "      <td>58</td>\n",
       "      <td>1</td>\n",
       "      <td>3</td>\n",
       "      <td>0</td>\n",
       "      <td>-0.906008</td>\n",
       "      <td>0</td>\n",
       "      <td>0</td>\n",
       "      <td>-1.520266</td>\n",
       "      <td>2</td>\n",
       "      <td>...</td>\n",
       "      <td>0</td>\n",
       "      <td>1</td>\n",
       "      <td>2</td>\n",
       "      <td>0</td>\n",
       "      <td>1</td>\n",
       "      <td>-0.793446</td>\n",
       "      <td>-0.823512</td>\n",
       "      <td>-0.272466</td>\n",
       "      <td>-0.947979</td>\n",
       "      <td>-0.937660</td>\n",
       "    </tr>\n",
       "  </tbody>\n",
       "</table>\n",
       "<p>5 rows × 29 columns</p>\n",
       "</div>"
      ],
      "text/plain": [
       "      gender  age  married  numberofdependents  numberofreferrals  \\\n",
       "2989       0   45        1                   3                  1   \n",
       "4699       1   23        0                   0                  0   \n",
       "6584       1   36        0                   0                  0   \n",
       "5943       0   54        0                   0                  0   \n",
       "4873       0   58        1                   3                  0   \n",
       "\n",
       "      tenureinmonths  offer  phoneservice  avgmonthlylongdistancecharges  \\\n",
       "2989       -1.113051      0             1                       0.488738   \n",
       "4699       -1.402913      5             1                      -1.185976   \n",
       "6584       -1.278686      0             1                      -1.389031   \n",
       "5943       -1.154460      0             1                      -0.141320   \n",
       "4873       -0.906008      0             0                      -1.520266   \n",
       "\n",
       "      multiplelines  ...  streamingmusic  unlimiteddata  contract  \\\n",
       "2989              0  ...               0              1         0   \n",
       "4699              0  ...               1              1         0   \n",
       "6584              0  ...               2              2         0   \n",
       "5943              0  ...               0              1         0   \n",
       "4873              2  ...               0              1         2   \n",
       "\n",
       "      paperlessbilling  paymentmethod  monthlycharge  totalcharges  \\\n",
       "2989                 0              0      -0.662423     -0.920499   \n",
       "4699                 0              1      -0.620879     -1.062208   \n",
       "6584                 0              0      -1.419799     -1.044867   \n",
       "5943                 0              0       0.120519     -0.868103   \n",
       "4873                 0              1      -0.793446     -0.823512   \n",
       "\n",
       "      totalextradatacharges  totallongdistancecharges  totalrevenue  \n",
       "2989              -0.272466                 -0.663402     -0.929002  \n",
       "4699              -0.272466                 -0.942060     -1.124736  \n",
       "6584              -0.272466                 -0.938684     -1.110003  \n",
       "5943              -0.272466                 -0.777066     -0.921654  \n",
       "4873              -0.272466                 -0.947979     -0.937660  \n",
       "\n",
       "[5 rows x 29 columns]"
      ]
     },
     "execution_count": 216,
     "metadata": {},
     "output_type": "execute_result"
    }
   ],
   "source": [
    "X_test.head()"
   ]
  },
  {
   "cell_type": "markdown",
   "metadata": {},
   "source": [
    "### Let's build some base models"
   ]
  },
  {
   "cell_type": "code",
   "execution_count": 217,
   "metadata": {},
   "outputs": [],
   "source": [
    "models = [\n",
    "    ('Logistic Regression', LogisticRegression()),\n",
    "    ('Kernel SVM', SVC()),\n",
    "    ('KNN', KNeighborsClassifier()),\n",
    "    ('Gaussian NB', GaussianNB()),\n",
    "    ('Random Forest', RandomForestClassifier()),\n",
    "    ('Decision Tree Classifier', DecisionTreeClassifier()),\n",
    "]"
   ]
  },
  {
   "cell_type": "code",
   "execution_count": 218,
   "metadata": {},
   "outputs": [],
   "source": [
    "acc_results =[]\n",
    "auc_results =[]\n",
    "pre_results =[]\n",
    "f1_results =[]\n",
    "names = []\n",
    "\n",
    "result_col = [\"Algorithm\", \"ROC AUC\", \"Accuracy\", \"Precision\", \"f1 Score\"]"
   ]
  },
  {
   "cell_type": "code",
   "execution_count": 219,
   "metadata": {},
   "outputs": [
    {
     "data": {
      "text/html": [
       "<div>\n",
       "<style scoped>\n",
       "    .dataframe tbody tr th:only-of-type {\n",
       "        vertical-align: middle;\n",
       "    }\n",
       "\n",
       "    .dataframe tbody tr th {\n",
       "        vertical-align: top;\n",
       "    }\n",
       "\n",
       "    .dataframe thead th {\n",
       "        text-align: right;\n",
       "    }\n",
       "</style>\n",
       "<table border=\"1\" class=\"dataframe\">\n",
       "  <thead>\n",
       "    <tr style=\"text-align: right;\">\n",
       "      <th></th>\n",
       "      <th>Algorithm</th>\n",
       "      <th>ROC AUC</th>\n",
       "      <th>Accuracy</th>\n",
       "      <th>Precision</th>\n",
       "      <th>f1 Score</th>\n",
       "    </tr>\n",
       "  </thead>\n",
       "  <tbody>\n",
       "    <tr>\n",
       "      <th>4</th>\n",
       "      <td>Random Forest</td>\n",
       "      <td>86.95</td>\n",
       "      <td>92.06</td>\n",
       "      <td>88.40</td>\n",
       "      <td>91.06</td>\n",
       "    </tr>\n",
       "    <tr>\n",
       "      <th>0</th>\n",
       "      <td>Logistic Regression</td>\n",
       "      <td>83.96</td>\n",
       "      <td>90.66</td>\n",
       "      <td>89.00</td>\n",
       "      <td>88.76</td>\n",
       "    </tr>\n",
       "    <tr>\n",
       "      <th>5</th>\n",
       "      <td>Decision Tree Classifier</td>\n",
       "      <td>81.29</td>\n",
       "      <td>77.37</td>\n",
       "      <td>87.68</td>\n",
       "      <td>87.18</td>\n",
       "    </tr>\n",
       "    <tr>\n",
       "      <th>1</th>\n",
       "      <td>Kernel SVM</td>\n",
       "      <td>79.27</td>\n",
       "      <td>86.18</td>\n",
       "      <td>80.52</td>\n",
       "      <td>86.63</td>\n",
       "    </tr>\n",
       "    <tr>\n",
       "      <th>3</th>\n",
       "      <td>Gaussian NB</td>\n",
       "      <td>76.87</td>\n",
       "      <td>86.19</td>\n",
       "      <td>91.32</td>\n",
       "      <td>82.23</td>\n",
       "    </tr>\n",
       "    <tr>\n",
       "      <th>2</th>\n",
       "      <td>KNN</td>\n",
       "      <td>75.43</td>\n",
       "      <td>78.87</td>\n",
       "      <td>82.60</td>\n",
       "      <td>82.90</td>\n",
       "    </tr>\n",
       "  </tbody>\n",
       "</table>\n",
       "</div>"
      ],
      "text/plain": [
       "                  Algorithm  ROC AUC  Accuracy  Precision  f1 Score\n",
       "4             Random Forest    86.95     92.06      88.40     91.06\n",
       "0       Logistic Regression    83.96     90.66      89.00     88.76\n",
       "5  Decision Tree Classifier    81.29     77.37      87.68     87.18\n",
       "1                Kernel SVM    79.27     86.18      80.52     86.63\n",
       "3               Gaussian NB    76.87     86.19      91.32     82.23\n",
       "2                       KNN    75.43     78.87      82.60     82.90"
      ]
     },
     "execution_count": 219,
     "metadata": {},
     "output_type": "execute_result"
    }
   ],
   "source": [
    "from sklearn.model_selection import cross_val_score\n",
    "\n",
    "model_results = pd.DataFrame(columns = result_col)\n",
    "\n",
    "for (i, (name, model)) in enumerate(models):\n",
    "    names.append(name)\n",
    "    \n",
    "    cv_acc_results = cross_val_score(model, X_train, y_train, scoring=\"accuracy\")\n",
    "    cv_auc_results = cross_val_score(model, X_train, y_train, scoring=\"roc_auc\")\n",
    "    cv_pre_results = cross_val_score(model, X_train, y_train, scoring=\"precision\")\n",
    "    cv_f1_results = cross_val_score(model, X_train, y_train, scoring=\"f1\")\n",
    "    \n",
    "    acc_results.append(cv_acc_results)\n",
    "    auc_results.append(cv_auc_results)\n",
    "    pre_results.append(cv_pre_results)\n",
    "    f1_results.append(cv_f1_results)\n",
    "    \n",
    "    model_results.loc[i] = [\n",
    "        name, \n",
    "        round(cv_acc_results.mean()*100,2),\n",
    "        round(cv_auc_results.mean()*100,2),\n",
    "        round(cv_pre_results.mean()*100,2),\n",
    "        round(cv_f1_results.mean()*100,2)\n",
    "    ]\n",
    "\n",
    "model_results.sort_values(by = ['ROC AUC'], ascending=False)"
   ]
  },
  {
   "cell_type": "markdown",
   "metadata": {},
   "source": [
    "#### Comments\n",
    "\n",
    "- With just the base Random Forest Model we are getting 86.6% ROC AUC score and an f1 score of 91%.\n",
    "- These models are pretty good but let's try and **tune hyper parameters** for each of them."
   ]
  },
  {
   "cell_type": "code",
   "execution_count": 220,
   "metadata": {},
   "outputs": [],
   "source": [
    "c_green = '#3A616D'\n",
    "c_off_white = '#F0E4CE'\n",
    "c_orange = '#FA8072'"
   ]
  },
  {
   "cell_type": "markdown",
   "metadata": {},
   "source": [
    "#### Decision Tree"
   ]
  },
  {
   "cell_type": "code",
   "execution_count": 221,
   "metadata": {},
   "outputs": [
    {
     "name": "stdout",
     "output_type": "stream",
     "text": [
      "Training accuracy  100.000%\n",
      "Testing accuracy  83.915%\n"
     ]
    }
   ],
   "source": [
    "modelD= DecisionTreeClassifier()\n",
    "modelD.fit(X_train, y_train)\n",
    "\n",
    "pred_train_D = modelD.predict(X_train)\n",
    "pred_test_D=modelD.predict(X_test)\n",
    "\n",
    "acc_train_D = accuracy_score(pred_train_D, y_train)\n",
    "acc_test_D = accuracy_score(pred_test_D, y_test)\n",
    "\n",
    "print(f'Training accuracy {acc_train_D*100: .3f}%') \n",
    "print(f'Testing accuracy {acc_test_D*100: .3f}%')"
   ]
  },
  {
   "cell_type": "code",
   "execution_count": 222,
   "metadata": {},
   "outputs": [
    {
     "name": "stdout",
     "output_type": "stream",
     "text": [
      "Fitting 5 folds for each of 80 candidates, totalling 400 fits\n"
     ]
    }
   ],
   "source": [
    "# Let's tune the hyper parameters parameters\n",
    "tuned_parameters = [{'criterion':['gini', 'entropy'], 'max_leaf_nodes': range(5, 45)}]\n",
    "\n",
    "# grid search model\n",
    "clf_D = GridSearchCV(DecisionTreeClassifier(), tuned_parameters, verbose=1, n_jobs=-1)\n",
    "# evaluate hyper-parameters\n",
    "clf_D.fit(X_train, y_train)\n",
    "\n",
    "means_D = clf_D.cv_results_['mean_test_score'] # mean accuracy with folds\n",
    "stds_D = clf_D.cv_results_['std_test_score'] # standard deviation of accuracies\n",
    "\n",
    "data_x = np.arange(5, 45)\n",
    "data_y = {\n",
    "    'gini': [],\n",
    "    'entropy': []\n",
    "}\n",
    "for mean, std, params in zip(means_D, stds_D, clf_D.cv_results_['params']):\n",
    "    data_y[params['criterion']].append(mean)"
   ]
  },
  {
   "cell_type": "code",
   "execution_count": 223,
   "metadata": {},
   "outputs": [
    {
     "data": {
      "image/png": "[encoded data removed]",
      "text/plain": [
       "<Figure size 1000x1000 with 2 Axes>"
      ]
     },
     "metadata": {},
     "output_type": "display_data"
    }
   ],
   "source": [
    "fig, (ax1, ax2) = plt.subplots(2, 1)\n",
    "\n",
    "ax1.plot(data_x, data_y['gini'], label='gini', color=c_green)\n",
    "ax1.set_title('Gini')\n",
    "ax1.set_ylabel('Mean Accuracy')\n",
    "ax1.set_xlabel('Num. Leaf Nodes')\n",
    "\n",
    "ax2.plot(data_x, data_y['entropy'], label='gini', color=c_green)\n",
    "ax2.set_title('Entropy')\n",
    "ax2.set_ylabel('Mean Accuracy')\n",
    "ax2.set_xlabel('Num. Leaf Nodes')\n",
    "\n",
    "# set size of plot\n",
    "fig.set_size_inches(10, 10)\n",
    "fig.show()"
   ]
  },
  {
   "cell_type": "code",
   "execution_count": 224,
   "metadata": {},
   "outputs": [
    {
     "name": "stdout",
     "output_type": "stream",
     "text": [
      "Best parameters found:\n",
      "{'criterion': 'gini', 'max_leaf_nodes': 19}\n"
     ]
    }
   ],
   "source": [
    "print(\"Best parameters found:\")\n",
    "print(clf_D.best_params_)"
   ]
  },
  {
   "cell_type": "code",
   "execution_count": 225,
   "metadata": {},
   "outputs": [
    {
     "name": "stdout",
     "output_type": "stream",
     "text": [
      "DecisionTreeClassifier(max_leaf_nodes=19)\n",
      "Results on test data\n",
      "Test accuracy =  0.8553\n",
      "Test precision =  0.8655\n",
      "Test recall =  0.9449\n",
      "Classification report:\n",
      "              precision    recall  f1-score   support\n",
      "\n",
      "           0       0.82      0.63      0.71       561\n",
      "           1       0.87      0.94      0.90      1416\n",
      "\n",
      "    accuracy                           0.86      1977\n",
      "   macro avg       0.84      0.79      0.81      1977\n",
      "weighted avg       0.85      0.86      0.85      1977\n",
      "\n",
      "Confusion matrix (Rows actual, Columns predicted):\n",
      "     0     1\n",
      "0  353   208\n",
      "1   78  1338\n",
      "ROC curve\n"
     ]
    },
    {
     "data": {
      "image/png": "[encoded data removed]",
      "text/plain": [
       "<Figure size 640x480 with 1 Axes>"
      ]
     },
     "metadata": {},
     "output_type": "display_data"
    }
   ],
   "source": [
    "criterion = clf_D.best_params_['criterion']\n",
    "max_leaf_nodes = clf_D.best_params_['max_leaf_nodes']\n",
    "# Train and test model\n",
    "good_model_D = DecisionTreeClassifier(criterion=criterion, max_leaf_nodes=max_leaf_nodes)\n",
    "print(good_model_D)\n",
    "\n",
    "good_model_D.fit(X_train, y_train)\n",
    "pred_D = good_model_D.predict(X_test)\n",
    "print(\"Results on test data\")\n",
    "\n",
    "acc_D = accuracy_score(y_test, pred_D)\n",
    "prec_D = precision_score(y_test, pred_D)\n",
    "reca_D = recall_score(y_test, pred_D)\n",
    "\n",
    "print(f'Test accuracy = {acc_D: .4f}')\n",
    "print(f'Test precision = {prec_D: .4f}')\n",
    "print(f'Test recall = {reca_D: .4f}')\n",
    "\n",
    "print(\"Classification report:\")\n",
    "print(classification_report(y_test, pred_D))\n",
    "\n",
    "print(\"Confusion matrix (Rows actual, Columns predicted):\")\n",
    "print(pd.DataFrame(confusion_matrix(y_test, pred_D)))\n",
    "\n",
    "print('ROC curve')\n",
    "plot_roc_curve(good_model_D, X_test, y_test) \n",
    "\n",
    "plt.show()"
   ]
  },
  {
   "cell_type": "markdown",
   "metadata": {},
   "source": [
    "#### Random Forest"
   ]
  },
  {
   "cell_type": "code",
   "execution_count": 226,
   "metadata": {},
   "outputs": [
    {
     "name": "stdout",
     "output_type": "stream",
     "text": [
      "Training accuracy  100.000%\n",
      "Testing accuracy  87.304%\n"
     ]
    }
   ],
   "source": [
    "modelR = RandomForestClassifier()\n",
    "\n",
    "modelR.fit(X_train, y_train) \n",
    "\n",
    "pred_train = modelR.predict(X_train)\n",
    "pred_test=modelR.predict(X_test)\n",
    "\n",
    "acc_train = accuracy_score(pred_train, y_train)\n",
    "acc_test = accuracy_score(pred_test, y_test)\n",
    "\n",
    "print(f'Training accuracy {acc_train * 100: .3f}%') \n",
    "print(f'Testing accuracy {acc_test * 100: .3f}%')"
   ]
  },
  {
   "cell_type": "code",
   "execution_count": 227,
   "metadata": {},
   "outputs": [
    {
     "name": "stdout",
     "output_type": "stream",
     "text": [
      "Fitting 5 folds for each of 27 candidates, totalling 135 fits\n",
      "Best parameters found:\n",
      "{'max_features': 20, 'max_leaf_nodes': 24, 'n_estimators': 25}\n",
      "Best score:\n",
      "0.8735936056855064\n"
     ]
    }
   ],
   "source": [
    "n_estimators = [25, 50, 75]\n",
    "max_features = [15, 20, 25]\n",
    "max_leaf_nodes = [8, 16, 24]\n",
    "tuned_parameters = [{'n_estimators': n_estimators,'max_features': max_features,'max_leaf_nodes': max_leaf_nodes}]\n",
    "\n",
    "clfR = GridSearchCV(RandomForestClassifier(), tuned_parameters, verbose=1, n_jobs=-1)\n",
    "clfR.fit(X_train, y_train)\n",
    "\n",
    "means = clfR.cv_results_['mean_test_score'] # mean accuracy with folds\n",
    "stds = clfR.cv_results_['std_test_score'] # standard deviation of accuracies\n",
    "\n",
    "print(\"Best parameters found:\")\n",
    "print(clfR.best_params_)\n",
    "\n",
    "# best score\n",
    "print(\"Best score:\")\n",
    "print(clfR.best_score_)"
   ]
  },
  {
   "cell_type": "code",
   "execution_count": 228,
   "metadata": {},
   "outputs": [
    {
     "name": "stdout",
     "output_type": "stream",
     "text": [
      "RandomForestClassifier(max_features=15, max_leaf_nodes=16, n_estimators=50)\n",
      "Results on test data\n",
      "Test accuracy =  0.8609\n",
      "Test precision =  0.8674\n",
      "Test recall =  0.9513\n",
      "Classification report:\n",
      "              precision    recall  f1-score   support\n",
      "\n",
      "           0       0.84      0.63      0.72       561\n",
      "           1       0.87      0.95      0.91      1416\n",
      "\n",
      "    accuracy                           0.86      1977\n",
      "   macro avg       0.85      0.79      0.81      1977\n",
      "weighted avg       0.86      0.86      0.85      1977\n",
      "\n",
      "Confusion matrix (Rows actual, Columns predicted):\n",
      "     0     1\n",
      "0  355   206\n",
      "1   69  1347\n",
      "ROC curve\n"
     ]
    },
    {
     "data": {
      "image/png": "[encoded data removed]",
      "text/plain": [
       "<Figure size 640x480 with 1 Axes>"
      ]
     },
     "metadata": {},
     "output_type": "display_data"
    }
   ],
   "source": [
    "max_features = 15\n",
    "max_leaf_nodes = 16 \n",
    "n_estimators = 50\n",
    "\n",
    "good_model = RandomForestClassifier(max_leaf_nodes = max_leaf_nodes, max_features = max_features, n_estimators=n_estimators)\n",
    "print(good_model)\n",
    "\n",
    "good_model.fit(X_train, y_train)\n",
    "pred = good_model.predict(X_test)\n",
    "\n",
    "print(\"Results on test data\")\n",
    "acc = accuracy_score(y_test, pred)\n",
    "prec = precision_score(y_test, pred)\n",
    "reca = recall_score(y_test, pred)\n",
    "\n",
    "print(f'Test accuracy = {acc: .4f}')\n",
    "print(f'Test precision = {prec: .4f}')\n",
    "print(f'Test recall = {reca: .4f}')\n",
    "\n",
    "print(\"Classification report:\")\n",
    "print(classification_report(y_test, pred))\n",
    "\n",
    "print(\"Confusion matrix (Rows actual, Columns predicted):\")\n",
    "print(pd.DataFrame(confusion_matrix(y_test, pred)))\n",
    "\n",
    "print('ROC curve')\n",
    "plot_roc_curve(good_model, X_test, y_test)\n",
    "plt.show()"
   ]
  },
  {
   "cell_type": "markdown",
   "metadata": {},
   "source": [
    "#### Logistic Regression"
   ]
  },
  {
   "cell_type": "code",
   "execution_count": 229,
   "metadata": {},
   "outputs": [
    {
     "name": "stdout",
     "output_type": "stream",
     "text": [
      "Training accuracy  84.670%\n",
      "Testing accuracy  85.787%\n"
     ]
    }
   ],
   "source": [
    "modelL = LogisticRegression()\n",
    "\n",
    "modelL.fit(X_train,y_train)\n",
    "\n",
    "pred_trainL = modelL.predict(X_train)\n",
    "pred_testL=modelL.predict(X_test)\n",
    "\n",
    "acc_trainL = accuracy_score(pred_trainL, y_train)\n",
    "acc_testL = accuracy_score(pred_testL, y_test)\n",
    "print(f'Training accuracy {acc_trainL * 100: .3f}%') \n",
    "print(f'Testing accuracy {acc_testL * 100: .3f}%')"
   ]
  },
  {
   "cell_type": "code",
   "execution_count": 230,
   "metadata": {},
   "outputs": [
    {
     "name": "stdout",
     "output_type": "stream",
     "text": [
      "Fitting 5 folds for each of 8 candidates, totalling 40 fits\n"
     ]
    },
    {
     "name": "stderr",
     "output_type": "stream",
     "text": [
      "/Users/sid/Desktop/research project/.env/lib/python3.8/site-packages/sklearn/linear_model/_logistic.py:444: ConvergenceWarning: lbfgs failed to converge (status=1):\n",
      "STOP: TOTAL NO. of ITERATIONS REACHED LIMIT.\n",
      "\n",
      "Increase the number of iterations (max_iter) or scale the data as shown in:\n",
      "    https://scikit-learn.org/stable/modules/preprocessing.html\n",
      "Please also refer to the documentation for alternative solver options:\n",
      "    https://scikit-learn.org/stable/modules/linear_model.html#logistic-regression\n",
      "  n_iter_i = _check_optimize_result(\n",
      "/Users/sid/Desktop/research project/.env/lib/python3.8/site-packages/sklearn/linear_model/_logistic.py:444: ConvergenceWarning: lbfgs failed to converge (status=1):\n",
      "STOP: TOTAL NO. of ITERATIONS REACHED LIMIT.\n",
      "\n",
      "Increase the number of iterations (max_iter) or scale the data as shown in:\n",
      "    https://scikit-learn.org/stable/modules/preprocessing.html\n",
      "Please also refer to the documentation for alternative solver options:\n",
      "    https://scikit-learn.org/stable/modules/linear_model.html#logistic-regression\n",
      "  n_iter_i = _check_optimize_result(\n",
      "/Users/sid/Desktop/research project/.env/lib/python3.8/site-packages/sklearn/linear_model/_logistic.py:444: ConvergenceWarning: lbfgs failed to converge (status=1):\n",
      "STOP: TOTAL NO. of ITERATIONS REACHED LIMIT.\n",
      "\n",
      "Increase the number of iterations (max_iter) or scale the data as shown in:\n",
      "    https://scikit-learn.org/stable/modules/preprocessing.html\n",
      "Please also refer to the documentation for alternative solver options:\n",
      "    https://scikit-learn.org/stable/modules/linear_model.html#logistic-regression\n",
      "  n_iter_i = _check_optimize_result(\n",
      "/Users/sid/Desktop/research project/.env/lib/python3.8/site-packages/sklearn/linear_model/_logistic.py:444: ConvergenceWarning: lbfgs failed to converge (status=1):\n",
      "STOP: TOTAL NO. of ITERATIONS REACHED LIMIT.\n",
      "\n",
      "Increase the number of iterations (max_iter) or scale the data as shown in:\n",
      "    https://scikit-learn.org/stable/modules/preprocessing.html\n",
      "Please also refer to the documentation for alternative solver options:\n",
      "    https://scikit-learn.org/stable/modules/linear_model.html#logistic-regression\n",
      "  n_iter_i = _check_optimize_result(\n",
      "/Users/sid/Desktop/research project/.env/lib/python3.8/site-packages/sklearn/linear_model/_logistic.py:444: ConvergenceWarning: lbfgs failed to converge (status=1):\n",
      "STOP: TOTAL NO. of ITERATIONS REACHED LIMIT.\n",
      "\n",
      "Increase the number of iterations (max_iter) or scale the data as shown in:\n",
      "    https://scikit-learn.org/stable/modules/preprocessing.html\n",
      "Please also refer to the documentation for alternative solver options:\n",
      "    https://scikit-learn.org/stable/modules/linear_model.html#logistic-regression\n",
      "  n_iter_i = _check_optimize_result(\n",
      "/Users/sid/Desktop/research project/.env/lib/python3.8/site-packages/sklearn/linear_model/_logistic.py:444: ConvergenceWarning: lbfgs failed to converge (status=1):\n",
      "STOP: TOTAL NO. of ITERATIONS REACHED LIMIT.\n",
      "\n",
      "Increase the number of iterations (max_iter) or scale the data as shown in:\n",
      "    https://scikit-learn.org/stable/modules/preprocessing.html\n",
      "Please also refer to the documentation for alternative solver options:\n",
      "    https://scikit-learn.org/stable/modules/linear_model.html#logistic-regression\n",
      "  n_iter_i = _check_optimize_result(\n",
      "/Users/sid/Desktop/research project/.env/lib/python3.8/site-packages/sklearn/linear_model/_logistic.py:444: ConvergenceWarning: lbfgs failed to converge (status=1):\n",
      "STOP: TOTAL NO. of ITERATIONS REACHED LIMIT.\n",
      "\n",
      "Increase the number of iterations (max_iter) or scale the data as shown in:\n",
      "    https://scikit-learn.org/stable/modules/preprocessing.html\n",
      "Please also refer to the documentation for alternative solver options:\n",
      "    https://scikit-learn.org/stable/modules/linear_model.html#logistic-regression\n",
      "  n_iter_i = _check_optimize_result(\n",
      "/Users/sid/Desktop/research project/.env/lib/python3.8/site-packages/sklearn/linear_model/_logistic.py:444: ConvergenceWarning: lbfgs failed to converge (status=1):\n",
      "STOP: TOTAL NO. of ITERATIONS REACHED LIMIT.\n",
      "\n",
      "Increase the number of iterations (max_iter) or scale the data as shown in:\n",
      "    https://scikit-learn.org/stable/modules/preprocessing.html\n",
      "Please also refer to the documentation for alternative solver options:\n",
      "    https://scikit-learn.org/stable/modules/linear_model.html#logistic-regression\n",
      "  n_iter_i = _check_optimize_result(\n",
      "/Users/sid/Desktop/research project/.env/lib/python3.8/site-packages/sklearn/linear_model/_logistic.py:444: ConvergenceWarning: lbfgs failed to converge (status=1):\n",
      "STOP: TOTAL NO. of ITERATIONS REACHED LIMIT.\n",
      "\n",
      "Increase the number of iterations (max_iter) or scale the data as shown in:\n",
      "    https://scikit-learn.org/stable/modules/preprocessing.html\n",
      "Please also refer to the documentation for alternative solver options:\n",
      "    https://scikit-learn.org/stable/modules/linear_model.html#logistic-regression\n",
      "  n_iter_i = _check_optimize_result(\n",
      "/Users/sid/Desktop/research project/.env/lib/python3.8/site-packages/sklearn/linear_model/_logistic.py:444: ConvergenceWarning: lbfgs failed to converge (status=1):\n",
      "STOP: TOTAL NO. of ITERATIONS REACHED LIMIT.\n",
      "\n",
      "Increase the number of iterations (max_iter) or scale the data as shown in:\n",
      "    https://scikit-learn.org/stable/modules/preprocessing.html\n",
      "Please also refer to the documentation for alternative solver options:\n",
      "    https://scikit-learn.org/stable/modules/linear_model.html#logistic-regression\n",
      "  n_iter_i = _check_optimize_result(\n",
      "/Users/sid/Desktop/research project/.env/lib/python3.8/site-packages/sklearn/linear_model/_logistic.py:444: ConvergenceWarning: lbfgs failed to converge (status=1):\n",
      "STOP: TOTAL NO. of ITERATIONS REACHED LIMIT.\n",
      "\n",
      "Increase the number of iterations (max_iter) or scale the data as shown in:\n",
      "    https://scikit-learn.org/stable/modules/preprocessing.html\n",
      "Please also refer to the documentation for alternative solver options:\n",
      "    https://scikit-learn.org/stable/modules/linear_model.html#logistic-regression\n",
      "  n_iter_i = _check_optimize_result(\n",
      "/Users/sid/Desktop/research project/.env/lib/python3.8/site-packages/sklearn/linear_model/_logistic.py:444: ConvergenceWarning: lbfgs failed to converge (status=1):\n",
      "STOP: TOTAL NO. of ITERATIONS REACHED LIMIT.\n",
      "\n",
      "Increase the number of iterations (max_iter) or scale the data as shown in:\n",
      "    https://scikit-learn.org/stable/modules/preprocessing.html\n",
      "Please also refer to the documentation for alternative solver options:\n",
      "    https://scikit-learn.org/stable/modules/linear_model.html#logistic-regression\n",
      "  n_iter_i = _check_optimize_result(\n",
      "/Users/sid/Desktop/research project/.env/lib/python3.8/site-packages/sklearn/linear_model/_logistic.py:444: ConvergenceWarning: lbfgs failed to converge (status=1):\n",
      "STOP: TOTAL NO. of ITERATIONS REACHED LIMIT.\n",
      "\n",
      "Increase the number of iterations (max_iter) or scale the data as shown in:\n",
      "    https://scikit-learn.org/stable/modules/preprocessing.html\n",
      "Please also refer to the documentation for alternative solver options:\n",
      "    https://scikit-learn.org/stable/modules/linear_model.html#logistic-regression\n",
      "  n_iter_i = _check_optimize_result(\n",
      "/Users/sid/Desktop/research project/.env/lib/python3.8/site-packages/sklearn/linear_model/_logistic.py:444: ConvergenceWarning: lbfgs failed to converge (status=1):\n",
      "STOP: TOTAL NO. of ITERATIONS REACHED LIMIT.\n",
      "\n",
      "Increase the number of iterations (max_iter) or scale the data as shown in:\n",
      "    https://scikit-learn.org/stable/modules/preprocessing.html\n",
      "Please also refer to the documentation for alternative solver options:\n",
      "    https://scikit-learn.org/stable/modules/linear_model.html#logistic-regression\n",
      "  n_iter_i = _check_optimize_result(\n",
      "/Users/sid/Desktop/research project/.env/lib/python3.8/site-packages/sklearn/linear_model/_logistic.py:444: ConvergenceWarning: lbfgs failed to converge (status=1):\n",
      "STOP: TOTAL NO. of ITERATIONS REACHED LIMIT.\n",
      "\n",
      "Increase the number of iterations (max_iter) or scale the data as shown in:\n",
      "    https://scikit-learn.org/stable/modules/preprocessing.html\n",
      "Please also refer to the documentation for alternative solver options:\n",
      "    https://scikit-learn.org/stable/modules/linear_model.html#logistic-regression\n",
      "  n_iter_i = _check_optimize_result(\n",
      "/Users/sid/Desktop/research project/.env/lib/python3.8/site-packages/sklearn/linear_model/_logistic.py:444: ConvergenceWarning: lbfgs failed to converge (status=1):\n",
      "STOP: TOTAL NO. of ITERATIONS REACHED LIMIT.\n",
      "\n",
      "Increase the number of iterations (max_iter) or scale the data as shown in:\n",
      "    https://scikit-learn.org/stable/modules/preprocessing.html\n",
      "Please also refer to the documentation for alternative solver options:\n",
      "    https://scikit-learn.org/stable/modules/linear_model.html#logistic-regression\n",
      "  n_iter_i = _check_optimize_result(\n",
      "/Users/sid/Desktop/research project/.env/lib/python3.8/site-packages/sklearn/linear_model/_logistic.py:444: ConvergenceWarning: lbfgs failed to converge (status=1):\n",
      "STOP: TOTAL NO. of ITERATIONS REACHED LIMIT.\n",
      "\n",
      "Increase the number of iterations (max_iter) or scale the data as shown in:\n",
      "    https://scikit-learn.org/stable/modules/preprocessing.html\n",
      "Please also refer to the documentation for alternative solver options:\n",
      "    https://scikit-learn.org/stable/modules/linear_model.html#logistic-regression\n",
      "  n_iter_i = _check_optimize_result(\n",
      "/Users/sid/Desktop/research project/.env/lib/python3.8/site-packages/sklearn/linear_model/_logistic.py:444: ConvergenceWarning: lbfgs failed to converge (status=1):\n",
      "STOP: TOTAL NO. of ITERATIONS REACHED LIMIT.\n",
      "\n",
      "Increase the number of iterations (max_iter) or scale the data as shown in:\n",
      "    https://scikit-learn.org/stable/modules/preprocessing.html\n",
      "Please also refer to the documentation for alternative solver options:\n",
      "    https://scikit-learn.org/stable/modules/linear_model.html#logistic-regression\n",
      "  n_iter_i = _check_optimize_result(\n",
      "/Users/sid/Desktop/research project/.env/lib/python3.8/site-packages/sklearn/linear_model/_logistic.py:444: ConvergenceWarning: lbfgs failed to converge (status=1):\n",
      "STOP: TOTAL NO. of ITERATIONS REACHED LIMIT.\n",
      "\n",
      "Increase the number of iterations (max_iter) or scale the data as shown in:\n",
      "    https://scikit-learn.org/stable/modules/preprocessing.html\n",
      "Please also refer to the documentation for alternative solver options:\n",
      "    https://scikit-learn.org/stable/modules/linear_model.html#logistic-regression\n",
      "  n_iter_i = _check_optimize_result(\n",
      "/Users/sid/Desktop/research project/.env/lib/python3.8/site-packages/sklearn/linear_model/_logistic.py:444: ConvergenceWarning: lbfgs failed to converge (status=1):\n",
      "STOP: TOTAL NO. of ITERATIONS REACHED LIMIT.\n",
      "\n",
      "Increase the number of iterations (max_iter) or scale the data as shown in:\n",
      "    https://scikit-learn.org/stable/modules/preprocessing.html\n",
      "Please also refer to the documentation for alternative solver options:\n",
      "    https://scikit-learn.org/stable/modules/linear_model.html#logistic-regression\n",
      "  n_iter_i = _check_optimize_result(\n"
     ]
    }
   ],
   "source": [
    "tuned_parameters = [{'C': [10.0, 100.0, 1000.0, 10000.0],'max_iter': [500, 1000]}]\n",
    "\n",
    "clfL = GridSearchCV(LogisticRegression(), tuned_parameters, verbose=1, n_jobs=-1)\n",
    "clfL.fit(X_train,y_train) # evaluate hyper-parameters\n",
    "\n",
    "meansL = clfL.cv_results_['mean_test_score'] # mean accuracy with folds\n",
    "stdsL = clfL.cv_results_['std_test_score'] # standard deviation of accuracies"
   ]
  },
  {
   "cell_type": "code",
   "execution_count": 231,
   "metadata": {},
   "outputs": [
    {
     "data": {
      "text/plain": [
       "Text(0.5, 0, 'C')"
      ]
     },
     "execution_count": 231,
     "metadata": {},
     "output_type": "execute_result"
    },
    {
     "data": {
      "image/png": "[encoded data removed]",
      "text/plain": [
       "<Figure size 640x480 with 2 Axes>"
      ]
     },
     "metadata": {},
     "output_type": "display_data"
    }
   ],
   "source": [
    "# generate a plot of accuracy vs combinations of hyper parameters\n",
    "data_x = [10.0, 100.0, 1000.0, 10000.0]\n",
    "data_y = {'500': meansL[0:4], '1000': meansL[4:8]}\n",
    "\n",
    "fig, (ax1, ax2) = plt.subplots(1, 2)\n",
    "\n",
    "ax1.plot(data_x, data_y['500'], label='gini', color=c_green)\n",
    "ax1.set_title('500')\n",
    "ax1.set_ylabel('Mean Accuracy')\n",
    "ax1.set_xlabel('C')\n",
    "\n",
    "ax2.plot(data_x, data_y['1000'], label='gini', color=c_green)\n",
    "ax2.set_title('1000')\n",
    "ax2.set_ylabel('Mean Accuracy')\n",
    "ax2.set_xlabel('C')"
   ]
  },
  {
   "cell_type": "code",
   "execution_count": 232,
   "metadata": {},
   "outputs": [
    {
     "name": "stdout",
     "output_type": "stream",
     "text": [
      "\n",
      "Best parameters found:\n",
      "{'C': 100.0, 'max_iter': 500}\n"
     ]
    }
   ],
   "source": [
    "print(\"\\nBest parameters found:\")\n",
    "print(clfL.best_params_) # best hyperparameter values"
   ]
  },
  {
   "cell_type": "code",
   "execution_count": 233,
   "metadata": {},
   "outputs": [
    {
     "name": "stdout",
     "output_type": "stream",
     "text": [
      "LogisticRegression(C=1000, max_iter=1000)\n",
      "Results on test data\n",
      "Test accuracy =  0.8543\n",
      "Test precision =  0.8989\n",
      "Test recall =  0.8976\n",
      "Classification report:\n",
      "              precision    recall  f1-score   support\n",
      "\n",
      "           0       0.74      0.75      0.74       561\n",
      "           1       0.90      0.90      0.90      1416\n",
      "\n",
      "    accuracy                           0.85      1977\n",
      "   macro avg       0.82      0.82      0.82      1977\n",
      "weighted avg       0.85      0.85      0.85      1977\n",
      "\n",
      "Confusion matrix (Rows actual, Columns predicted):\n",
      "     0     1\n",
      "0  418   143\n",
      "1  145  1271\n",
      "ROC curve\n"
     ]
    },
    {
     "data": {
      "image/png": "[encoded data removed]",
      "text/plain": [
       "<Figure size 640x480 with 1 Axes>"
      ]
     },
     "metadata": {},
     "output_type": "display_data"
    }
   ],
   "source": [
    "C = 1000\n",
    "max_iter = 1000\n",
    "\n",
    "good_modelL = LogisticRegression(C = C, max_iter=max_iter)\n",
    "print(good_modelL)\n",
    "\n",
    "good_modelL.fit(X_train,y_train)\n",
    "predL = good_modelL.predict(X_test)\n",
    "\n",
    "print(\"Results on test data\")\n",
    "accL = accuracy_score(y_test, predL)\n",
    "precL = precision_score(y_test, predL)\n",
    "recaL = recall_score(y_test, predL)\n",
    "\n",
    "print(f'Test accuracy = {accL: .4f}')\n",
    "print(f'Test precision = {precL: .4f}')\n",
    "print(f'Test recall = {recaL: .4f}')\n",
    "\n",
    "print(\"Classification report:\")\n",
    "print(classification_report(y_test, predL))\n",
    "print(\"Confusion matrix (Rows actual, Columns predicted):\")\n",
    "print(pd.DataFrame(confusion_matrix(y_test, predL)))\n",
    "\n",
    "print('ROC curve')\n",
    "plot_roc_curve(good_modelL, X_test, y_test)\n",
    "plt.show()"
   ]
  },
  {
   "cell_type": "markdown",
   "metadata": {},
   "source": [
    "#### K Nearest Neighbors"
   ]
  },
  {
   "cell_type": "code",
   "execution_count": 234,
   "metadata": {},
   "outputs": [
    {
     "name": "stdout",
     "output_type": "stream",
     "text": [
      "Training accuracy:  84.345%\n",
      "Testing accuracy:  78.756%\n"
     ]
    }
   ],
   "source": [
    "modelknn= KNeighborsClassifier().fit(X_train,y_train)\n",
    "\n",
    "pred_trainknn = modelknn.predict(X_train)\n",
    "pred_testknn=modelknn.predict(X_test)\n",
    "\n",
    "acc_trainknn = accuracy_score(pred_trainknn, y_train)\n",
    "acc_testknn = accuracy_score(pred_testknn, y_test)\n",
    "print(f'Training accuracy: {acc_trainknn * 100: .3f}%') \n",
    "print(f'Testing accuracy: {acc_testknn * 100: .3f}%')"
   ]
  },
  {
   "cell_type": "code",
   "execution_count": 235,
   "metadata": {},
   "outputs": [
    {
     "name": "stdout",
     "output_type": "stream",
     "text": [
      "Fitting 5 folds for each of 6 candidates, totalling 30 fits\n",
      "\n",
      "Grid scores:\n"
     ]
    },
    {
     "data": {
      "text/plain": [
       "Text(0.5, 0, 'n_neighbors')"
      ]
     },
     "execution_count": 235,
     "metadata": {},
     "output_type": "execute_result"
    },
    {
     "data": {
      "image/png": "[encoded data removed]",
      "text/plain": [
       "<Figure size 640x480 with 2 Axes>"
      ]
     },
     "metadata": {},
     "output_type": "display_data"
    }
   ],
   "source": [
    "tuned_parameters = [{\n",
    "    'algorithm':['brute'],\n",
    "    'metric': ['euclidean', 'minkowski'],\n",
    "    'n_neighbors': [5, 10, 20]\n",
    "}]\n",
    "\n",
    "clfknn = GridSearchCV(KNeighborsClassifier(), tuned_parameters,verbose=1, n_jobs=-1)\n",
    "clfknn.fit(X_train, y_train)\n",
    "\n",
    "print(\"\\nGrid scores:\")\n",
    "meansknn = clfknn.cv_results_['mean_test_score']\n",
    "stdsknn = clfknn.cv_results_['std_test_score']\n",
    "\n",
    "# plot mean accuracy (meansknn) vs n_neighbors grouped by metric\n",
    "data_x = [5, 10, 20]\n",
    "data_y = {'euclidean': meansknn[0:3], 'minkowski': meansknn[3:6]}\n",
    "\n",
    "fig, (ax1, ax2) = plt.subplots(1, 2)\n",
    "\n",
    "ax1.plot(data_x, data_y['euclidean'], label='gini', color=c_green)\n",
    "ax1.set_title('euclidean')\n",
    "ax1.set_ylabel('Mean Accuracy')\n",
    "ax1.set_xlabel('n_neighbors')\n",
    "\n",
    "ax2.plot(data_x, data_y['minkowski'], label='gini', color=c_green)\n",
    "ax2.set_title('minkowski')\n",
    "ax2.set_ylabel('Mean Accuracy')\n",
    "ax2.set_xlabel('n_neighbors')\n"
   ]
  },
  {
   "cell_type": "code",
   "execution_count": 236,
   "metadata": {},
   "outputs": [
    {
     "name": "stdout",
     "output_type": "stream",
     "text": [
      "\n",
      "\n",
      "Best parameters found:\n",
      "{'algorithm': 'brute', 'metric': 'euclidean', 'n_neighbors': 10}\n"
     ]
    }
   ],
   "source": [
    "print(\"\\n\\nBest parameters found:\")\n",
    "print(clfknn.best_params_)"
   ]
  },
  {
   "cell_type": "code",
   "execution_count": 237,
   "metadata": {},
   "outputs": [
    {
     "name": "stdout",
     "output_type": "stream",
     "text": [
      "KNeighborsClassifier(algorithm='brute', metric='euclidean', n_neighbors=20)\n",
      "Results on test data\n",
      "Test accuracy =  0.7820\n",
      "Test precision =  0.8385\n",
      "Test recall =  0.8616\n",
      "Classification report:\n",
      "              precision    recall  f1-score   support\n",
      "\n",
      "           0       0.62      0.58      0.60       561\n",
      "           1       0.84      0.86      0.85      1416\n",
      "\n",
      "    accuracy                           0.78      1977\n",
      "   macro avg       0.73      0.72      0.73      1977\n",
      "weighted avg       0.78      0.78      0.78      1977\n",
      "\n",
      "Confusion matrix (Rows actual, Columns predicted):\n",
      "     0     1\n",
      "0  326   235\n",
      "1  196  1220\n",
      "ROC curve\n"
     ]
    },
    {
     "data": {
      "image/png": "[encoded data removed]",
      "text/plain": [
       "<Figure size 640x480 with 1 Axes>"
      ]
     },
     "metadata": {},
     "output_type": "display_data"
    }
   ],
   "source": [
    "algorithm = 'brute'\n",
    "metric = 'euclidean'\n",
    "n_neighbors =  20\n",
    "\n",
    "good_modelknn = KNeighborsClassifier(algorithm=algorithm, metric=metric, n_neighbors=n_neighbors)\n",
    "print(good_modelknn)\n",
    "\n",
    "good_modelknn.fit(X_train, y_train)\n",
    "predknn = good_modelknn.predict(X_test)\n",
    "\n",
    "print(\"Results on test data\")\n",
    "accknn = accuracy_score(y_test, predknn)\n",
    "precknn = precision_score(y_test, predknn)\n",
    "recaknn = recall_score(y_test, predknn)\n",
    "\n",
    "print(f'Test accuracy = {accknn: .4f}')\n",
    "print(f'Test precision = {precknn: .4f}')\n",
    "print(f'Test recall = {recaknn: .4f}')\n",
    "\n",
    "print(\"Classification report:\")\n",
    "print(classification_report(y_test, predknn))\n",
    "print(\"Confusion matrix (Rows actual, Columns predicted):\")\n",
    "print(pd.DataFrame(confusion_matrix(y_test, predknn)))\n",
    "\n",
    "print('ROC curve')\n",
    "plot_roc_curve(good_modelknn, X_test, y_test) \n",
    "plt.show()"
   ]
  },
  {
   "cell_type": "markdown",
   "metadata": {},
   "source": [
    "#### Support Vector Machines"
   ]
  },
  {
   "cell_type": "code",
   "execution_count": 238,
   "metadata": {},
   "outputs": [
    {
     "name": "stdout",
     "output_type": "stream",
     "text": [
      "Training accuracy:  80.703%\n",
      "Testing accuracy:  80.324%\n"
     ]
    }
   ],
   "source": [
    "modelsvm=svm.SVC().fit(X_train,y_train)\n",
    "\n",
    "pred_trainsvm = modelsvm.predict(X_train)\n",
    "pred_testsvm=modelsvm.predict(X_test)\n",
    "\n",
    "acc_trainsvm = accuracy_score(pred_trainsvm, y_train)\n",
    "acc_testsvm = accuracy_score(pred_testsvm, y_test)\n",
    "print(f'Training accuracy: {acc_trainsvm * 100: .3f}%')\n",
    "print(f'Testing accuracy: {acc_testsvm * 100: .3f}%')"
   ]
  },
  {
   "cell_type": "code",
   "execution_count": 239,
   "metadata": {},
   "outputs": [
    {
     "name": "stdout",
     "output_type": "stream",
     "text": [
      "Fitting 5 folds for each of 81 candidates, totalling 405 fits\n"
     ]
    }
   ],
   "source": [
    "tuned_parameters = [{'kernel':['linear'], 'gamma': np.arange(0.1, 1, 0.1), 'C': np.arange(0.1, 1, 0.1)}]\n",
    "\n",
    "clfsvm = GridSearchCV(svm.SVC(), tuned_parameters, verbose=1, n_jobs=-1)\n",
    "clfsvm.fit(X_train,y_train) # evaluate hyper-parameters\n",
    "\n",
    "meansvm = clfsvm.cv_results_['mean_test_score']\n",
    "stdsvm = clfsvm.cv_results_['std_test_score']"
   ]
  },
  {
   "cell_type": "code",
   "execution_count": null,
   "metadata": {},
   "outputs": [],
   "source": [
    "print(\"\\nBest parameters found:\")\n",
    "print(clfsvm.best_params_)\n",
    "\n",
    "# print best accuracy score\n",
    "print(f'Best accuracy: {clfsvm.best_score_ * 100: .3f}%')"
   ]
  },
  {
   "cell_type": "code",
   "execution_count": null,
   "metadata": {},
   "outputs": [],
   "source": [
    "C = 0.4\n",
    "kernel = 'linear'\n",
    "gamma =  0.1\n",
    "\n",
    "good_modelsvm = svm.SVC(C=C, kernel=kernel, gamma=gamma)\n",
    "print(good_modelsvm)\n",
    "\n",
    "good_modelsvm.fit(X_train,y_train)\n",
    "predsvm = good_modelsvm.predict(X_test)\n",
    "\n",
    "print(\"Results on test data\")\n",
    "accsvm = accuracy_score(y_test, predsvm)\n",
    "precsvm = precision_score(y_test, predsvm)\n",
    "recasvm = recall_score(y_test, predsvm)\n",
    "\n",
    "print(f'Test accuracy = {accsvm: .4f}')\n",
    "print(f'Test precision = {precsvm: .4f}')\n",
    "print(f'Test recall = {recasvm: .4f}')\n",
    "\n",
    "print(\"Classification report:\")\n",
    "print(classification_report(y_test, predsvm))\n",
    "print(\"Confusion matrix (Rows actual, Columns predicted):\")\n",
    "print(pd.DataFrame(confusion_matrix(y_test, predsvm)))\n",
    "\n",
    "print('ROC curve')\n",
    "plot_roc_curve(good_modelsvm, X_test, y_test)\n",
    "plt.show()"
   ]
  },
  {
   "cell_type": "markdown",
   "metadata": {},
   "source": [
    "#### List all tuned models"
   ]
  },
  {
   "cell_type": "code",
   "execution_count": null,
   "metadata": {},
   "outputs": [],
   "source": [
    "models_tuned = [\n",
    "    (\n",
    "        'Logistic Regression',\n",
    "        LogisticRegression(solver='liblinear',C = 1000, max_iter=1000, random_state = 0)\n",
    "    ),\n",
    "    (\n",
    "        'SVC',\n",
    "        SVC(C=0.4, kernel = 'linear', gamma=0.1, random_state = 0)\n",
    "    ),\n",
    "    (\n",
    "        'Kernel SVM',\n",
    "        SVC(C=0.4, kernel = 'rbf', gamma=0.1, random_state = 0)\n",
    "    ),\n",
    "    (\n",
    "        'KNN',\n",
    "        KNeighborsClassifier(n_neighbors = 10, metric = 'euclidean', p = 2, algorithm='brute')\n",
    "    ),\n",
    "    (\n",
    "        'Gaussian NB',\n",
    "        GaussianNB()\n",
    "    ),\n",
    "    (\n",
    "        'Decision Tree Classifier',\n",
    "        DecisionTreeClassifier(criterion = 'gini', max_leaf_nodes = 19, random_state = 0)\n",
    "    ),\n",
    "    (\n",
    "        'Random Forest',\n",
    "        RandomForestClassifier(max_leaf_nodes = 24, max_features = 15, n_estimators = 25, criterion = 'entropy', random_state = 0)\n",
    "    )\n",
    "]"
   ]
  },
  {
   "cell_type": "code",
   "execution_count": null,
   "metadata": {},
   "outputs": [],
   "source": [
    "from sklearn.model_selection import cross_val_score, KFold\n",
    "\n",
    "acc_results_opt =[]\n",
    "auc_results_opt =[]\n",
    "pre_results_opt =[]\n",
    "f1_results_opt =[]\n",
    "names_opt = []\n",
    "\n",
    "result_col_opt = [\"Algorithm\", \"ROC AUC\", \"Accuracy\", 'Precision', 'F1 Scores']\n",
    "model_results_opt = pd.DataFrame(columns = result_col_opt)\n",
    "\n",
    "for (i, (name, model)) in enumerate(models):\n",
    "    names_opt.append(name)\n",
    "    kfold = KFold(n_splits=10)\n",
    "    \n",
    "    cv_acc_results_opt = cross_val_score(model, X_train, y_train,  cv = kfold, scoring=\"accuracy\")\n",
    "    cv_auc_results_opt = cross_val_score(model, X_train, y_train, cv = kfold, scoring=\"roc_auc\")\n",
    "    cv_pre_results_opt = cross_val_score(model, X_train, y_train, cv = kfold, scoring=\"precision\")\n",
    "    cv_f1_results_opt = cross_val_score(model, X_train, y_train, cv = kfold, scoring=\"f1\")\n",
    "    \n",
    "    acc_results_opt.append(cv_acc_results_opt)\n",
    "    auc_results_opt.append(cv_auc_results_opt)\n",
    "    pre_results_opt.append(cv_pre_results_opt)\n",
    "    f1_results_opt.append(cv_f1_results_opt)\n",
    "    \n",
    "    model_results_opt.loc[i] = [\n",
    "        name, \n",
    "        round(cv_auc_results_opt.mean()*100,2),\n",
    "        round(cv_acc_results_opt.mean()*100,2),\n",
    "        round(cv_pre_results_opt.mean()*100,2),\n",
    "        round(cv_f1_results_opt.mean()*100,2)\n",
    "    ]\n",
    "\n",
    "model_results_opt.sort_values(by = ['ROC AUC'], ascending=False)"
   ]
  },
  {
   "cell_type": "markdown",
   "metadata": {},
   "source": [
    "#### Best Model - Random Forest\n",
    "\n",
    "The random forest model turns out to be the best with highest ROC AUC, accuracy, and f1-score\n",
    "\n",
    "Let's try and apply permutation importance and partial distance on Random Forest"
   ]
  },
  {
   "cell_type": "markdown",
   "metadata": {},
   "source": [
    "#### Permutation Importance"
   ]
  },
  {
   "cell_type": "code",
   "execution_count": null,
   "metadata": {},
   "outputs": [],
   "source": [
    "import eli5\n",
    "from eli5.sklearn import PermutationImportance\n",
    "\n",
    "perm = PermutationImportance(good_model, random_state=1).fit(X_test, y_test)\n",
    "eli5.explain_weights(perm, feature_names = X_test.columns.tolist(), top=10)"
   ]
  },
  {
   "cell_type": "code",
   "execution_count": null,
   "metadata": {},
   "outputs": [],
   "source": [
    "from sklearn.ensemble import RandomForestRegressor\n",
    "\n",
    "data1 = data.query('monthlycharge >= 0')\n",
    "y1 = data.customerstatus\n",
    "\n",
    "base_features=['tenureinmonths','contract','numberofreferrals','age','numberofdependents','monthlycharge']\n",
    "X1 = data[base_features]\n",
    "\n",
    "train_X1, val_X1, train_y1, val_y1 = train_test_split(X1, y1, random_state=1)\n",
    "first_model = RandomForestRegressor(n_estimators=50, random_state=1).fit(train_X1, train_y1)\n",
    "\n",
    "print(\"Data sample:\")\n",
    "data.head()"
   ]
  },
  {
   "cell_type": "markdown",
   "metadata": {},
   "source": [
    "#### Applying Partial Distance Plots"
   ]
  },
  {
   "cell_type": "code",
   "execution_count": null,
   "metadata": {},
   "outputs": [],
   "source": [
    "from sklearn.inspection import PartialDependenceDisplay"
   ]
  },
  {
   "cell_type": "code",
   "execution_count": null,
   "metadata": {},
   "outputs": [],
   "source": [
    "PartialDependenceDisplay.from_estimator(first_model, val_X1, base_features, kind='average')\n",
    "plt.gcf().set_size_inches(10, 8)"
   ]
  },
  {
   "cell_type": "markdown",
   "metadata": {},
   "source": [
    "#### Important Features\n",
    "\n",
    "Contract and Tenure In Months are the most important features"
   ]
  },
  {
   "cell_type": "code",
   "execution_count": null,
   "metadata": {},
   "outputs": [],
   "source": [
    "imp_features = ['contract', 'tenureinmonths']\n",
    "\n",
    "max_features = 15\n",
    "max_leaf_nodes = 24\n",
    "n_estimators = 25\n",
    "\n",
    "good_model = RandomForestClassifier(max_leaf_nodes = max_leaf_nodes, max_features = max_features, n_estimators=n_estimators)\n",
    "\n",
    "print(good_model)\n",
    "good_model.fit(X_train, y_train)\n",
    "pred = good_model.predict(X_test)\n",
    "\n",
    "print(\"Results on test data\")\n",
    "acc = accuracy_score(y_test, pred)\n",
    "prec = precision_score(y_test, pred)\n",
    "reca = recall_score(y_test, pred)\n",
    "\n",
    "print(f'Test accuracy = {acc: .4f}')\n",
    "print(f'Test precision = {prec: .4f}')\n",
    "print(f'Test recall = {reca: .4f}')\n",
    "\n",
    "print(\"Classification report:\")\n",
    "print(classification_report(y_test, pred))\n",
    "print(\"Confusion matrix (Rows actual, Columns predicted):\")\n",
    "print(pd.DataFrame(confusion_matrix(y_test, pred)))\n",
    "\n",
    "print('ROC curve')\n",
    "plot_roc_curve(good_model, X_test, y_test)\n",
    "plt.show()"
   ]
  },
  {
   "cell_type": "code",
   "execution_count": null,
   "metadata": {},
   "outputs": [],
   "source": [
    "perm = PermutationImportance(good_modelL, random_state=1).fit(X_test, y_test)\n",
    "eli5.show_weights(perm, feature_names = X_test.columns.tolist(), top=10)"
   ]
  },
  {
   "cell_type": "markdown",
   "metadata": {},
   "source": [
    "### Conclusion\n",
    "\n",
    "Random Forest model is the best\n",
    "\n",
    "#### MOST IMPORTANT FEATURES ARE\n",
    "1. CONTRACT\n",
    "2. MONTHLY CHARGE\n",
    "3. TENURE IN MONTHS\n",
    "4. NUMBER OF REFERRALS\n",
    "5. NUMBER OF INDEPENDENTS"
   ]
  }
 ],
 "metadata": {
  "kernelspec": {
   "display_name": "Python 3.8.9 ('.env': venv)",
   "language": "python",
   "name": "python3"
  },
  "language_info": {
   "codemirror_mode": {
    "name": "ipython",
    "version": 3
   },
   "file_extension": ".py",
   "mimetype": "text/x-python",
   "name": "python",
   "nbconvert_exporter": "python",
   "pygments_lexer": "ipython3",
   "version": "3.8.9"
  },
  "orig_nbformat": 4,
  "vscode": {
   "interpreter": {
    "hash": "5ab17ae926b091e75a8224079ba4992a63e8e20cf54972d837826fc712e355b1"
   }
  }
 },
 "nbformat": 4,
 "nbformat_minor": 2
}
